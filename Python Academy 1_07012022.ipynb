{
 "cells": [
  {
   "cell_type": "raw",
   "id": "d7823f3a",
   "metadata": {},
   "source": [
    "COHORT 14 AND 15 PYTHON ACADEMY PROJECT PREPARATION : PYTHON TOPICS TO COVER\n",
    "by Onecampus INC - Monday, 27 June 2022, 9:55 PM\n",
    "Python Topics To Cover For The Python Academy Project.\n",
    "\n",
    "Please review these topics before you start working on your Python Academy project. Use the attached books as your prep guide\n",
    "\n",
    "Basic Syntax and Expressions\n",
    "Variable Types and Type Conversions\n",
    "Basic Operators ( ==, +, -, *, >, <, and, or, =,%, //, in, !=)\n",
    "Flow Control and Conditional Statements (IF Statements)\n",
    "Loops\n",
    "Numbers\n",
    "Strings and String functions\n",
    "Lists and List Functions\n",
    "Sets\n",
    "Tuples\n",
    "Dictionary\n",
    "Date & Time\n",
    "Functions\n",
    "NOTE:\n",
    "Your Python Academy Project will be released on June 28, 2022\n",
    " Python_textBooks.zip\n"
   ]
  },
  {
   "cell_type": "code",
   "execution_count": null,
   "id": "1a181b56",
   "metadata": {},
   "outputs": [],
   "source": [
    "if x == y:\n",
    "    What should be executed if condition is true\n",
    "    What should be executed if condition is true\n",
    "    What should be executed if condition is true\n",
    "    What should be executed if condition is true\n",
    "    What should be executed if condition is true\n",
    "else:\n",
    "    what will be executed if condition is false\n",
    "    what will be executed if condition is false\n",
    "    what will be executed if condition is false\n",
    "    "
   ]
  },
  {
   "cell_type": "code",
   "execution_count": null,
   "id": "29c31c92",
   "metadata": {},
   "outputs": [],
   "source": [
    "if x == y:\n",
    "    What should be executed if condition is true\n",
    "    What should be executed if condition is true\n",
    "    What should be executed if condition is true\n",
    "    What should be executed if condition is true\n",
    "    What should be executed if condition is true\n",
    "elif x > y:\n",
    "    What should be executed if condition is true\n",
    "    What should be executed if condition is true\n",
    "    \n",
    "elif x < y:\n",
    "    What should be executed if condition is true\n",
    "    What should be executed if condition is true\n",
    "    \n",
    "else:\n",
    "    what will be executed if condition is false\n",
    "    what will be executed if condition is false\n",
    "    what will be executed if condition is false"
   ]
  },
  {
   "cell_type": "code",
   "execution_count": null,
   "id": "ef51dd81",
   "metadata": {},
   "outputs": [],
   "source": [
    "Scenario1: Denis Awhen has three cars; bmw, toyota and mercedes benz. \n",
    "He drives the bmw on weekeds only, the mercedese on mon through wed, \n",
    "and the toyotaa on thursdays and friday\n",
    "\n",
    "set his car for each day of the week."
   ]
  },
  {
   "cell_type": "code",
   "execution_count": 1,
   "id": "f3f3b5f3",
   "metadata": {},
   "outputs": [
    {
     "name": "stdout",
     "output_type": "stream",
     "text": [
      "current day is tue, and the car Denis is driving is  benz\n"
     ]
    }
   ],
   "source": [
    "\n",
    "# Create a list of cars\n",
    "carList = ['bmw', 'benz','toyota']\n",
    "car = ''\n",
    "driveDays = ['mon', 'tue','wed','thur','fri','sat','sun']\n",
    "\n",
    "#set Day variable \n",
    "dayVar = driveDays[1]\n",
    "\n",
    "if dayVar in ['mon', 'tue','wed'] :\n",
    "    car = carList[1]\n",
    "elif dayVar in ['thur', 'fri']:\n",
    "    car = carList[2]\n",
    "elif dayVar in ['sat','sun']:\n",
    "    car = carList[0]\n",
    "\n",
    "print(f'current day is {dayVar}, and the car Denis is driving is  {car}')"
   ]
  },
  {
   "cell_type": "code",
   "execution_count": 4,
   "id": "55049a43",
   "metadata": {},
   "outputs": [
    {
     "name": "stdout",
     "output_type": "stream",
     "text": [
      "current day is tue, and the car Denis is driving is  \n"
     ]
    }
   ],
   "source": [
    "\n",
    "# Create a list of cars\n",
    "carList = ['bmw', 'benz','toyota']\n",
    "curCar = ''\n",
    "driveDays = ['mon', 'tue','wed','thur','fri','sat','sun']\n",
    "\n",
    "#set Day variable \n",
    "dayVar1 = driveDays[1]\n",
    "\n",
    "if dayVar1 == 'mon':\n",
    "    pass\n",
    "elif dayVar1 ==  'tue':\n",
    "    pass\n",
    "elif dayVar1 =='wed' :\n",
    "    pass\n",
    "    \n",
    "elif dayVar1 == 'thur':\n",
    "    pass\n",
    "\n",
    "elif dayVar1 == 'fri':\n",
    "    pass\n",
    "elif dayVar1 == 'sat':\n",
    "    pass\n",
    "elif dayVar1 =='sun':\n",
    "    pass\n",
    "else:\n",
    "    print('current day unknown')\n",
    "print(f'current day is {dayVar1}, and the car Denis is driving is  {curCar}')"
   ]
  },
  {
   "cell_type": "code",
   "execution_count": 7,
   "id": "5554dc2d",
   "metadata": {},
   "outputs": [
    {
     "name": "stdout",
     "output_type": "stream",
     "text": [
      "current day is fri, and the car Denis is driving is  toyota\n"
     ]
    }
   ],
   "source": [
    "# Create a list of cars\n",
    "carList = ['bmw', 'benz','toyota']\n",
    "curCar = ''\n",
    "driveDays = ['mon', 'tue','wed','thur','fri','sat','sun']\n",
    "\n",
    "#set Day variable \n",
    "dayVar1 = driveDays[4]\n",
    "\n",
    "if dayVar1 == 'mon':\n",
    "    curCar = carList[1]\n",
    "elif dayVar1 ==  'tue':\n",
    "    curCar = carList[1]\n",
    "elif dayVar1 =='wed' :\n",
    "    curCar = carList[1]\n",
    "    \n",
    "elif dayVar1 == 'thur':\n",
    "    curCar = carList[2]\n",
    "\n",
    "elif dayVar1 == 'fri':\n",
    "    curCar = carList[2]\n",
    "elif dayVar1 == 'sat':\n",
    "    curCar = carList[0]\n",
    "elif dayVar1 =='sun':\n",
    "    curCar = carList[0]\n",
    "else:\n",
    "    print('current day unknown')\n",
    "print(f'current day is {dayVar1}, and the car Denis is driving is  {curCar}')"
   ]
  },
  {
   "cell_type": "code",
   "execution_count": 8,
   "id": "45c74bb6",
   "metadata": {},
   "outputs": [
    {
     "name": "stdout",
     "output_type": "stream",
     "text": [
      "current day is tue, and the car Denis is driving is  benz\n"
     ]
    }
   ],
   "source": [
    "\n",
    "# Create a list of cars\n",
    "carList = ['bmw', 'benz','toyota']\n",
    "car = ''\n",
    "driveDays = ['mon', 'tue','wed','thur','fri','sat','sun']\n",
    "daySet1 = ['mon', 'tue','wed'] \n",
    "daySet2 = ['thur', 'fri']\n",
    "daySet3 = ['sat','sun']\n",
    "\n",
    "#set Day variable \n",
    "dayVar = driveDays[1]\n",
    "\n",
    "if dayVar in daySet1 :\n",
    "    car = carList[1]\n",
    "elif dayVar in daySet2:\n",
    "    car = carList[2]\n",
    "elif dayVar in daySet3:\n",
    "    car = carList[0]\n",
    "\n",
    "print(f'current day is {dayVar}, and the car Denis is driving is  {car}')"
   ]
  },
  {
   "cell_type": "code",
   "execution_count": 10,
   "id": "f06c565a",
   "metadata": {},
   "outputs": [
    {
     "data": {
      "text/plain": [
       "''"
      ]
     },
     "execution_count": 10,
     "metadata": {},
     "output_type": "execute_result"
    }
   ],
   "source": [
    "# re implementing using python functions \n",
    "def carSelector(weekDay):\n",
    "    dayCar = ''\n",
    "    pass\n",
    "\n",
    "    return dayCar\n",
    "    \n",
    "    \n",
    "    \n",
    "    \n",
    "weekDay = 'mon'    \n",
    "    \n",
    "carDriven = carSelector(weekDay)    \n",
    "\n",
    "carDriven"
   ]
  },
  {
   "cell_type": "code",
   "execution_count": 16,
   "id": "a481679c",
   "metadata": {},
   "outputs": [
    {
     "name": "stdout",
     "output_type": "stream",
     "text": [
      "drive day unknown\n"
     ]
    },
    {
     "data": {
      "text/plain": [
       "''"
      ]
     },
     "execution_count": 16,
     "metadata": {},
     "output_type": "execute_result"
    }
   ],
   "source": [
    "# re implementing using python functions \n",
    "\n",
    "carList = ['bmw', 'benz','toyota']\n",
    "driveDays = ['mon', 'tue','wed','thur','fri','sat','sun']\n",
    "daySet1 = ['mon', 'tue','wed'] \n",
    "daySet2 = ['thur', 'fri']\n",
    "daySet3 = ['sat','sun']\n",
    "\n",
    "\n",
    "def carSelector(weekDay):\n",
    "    \n",
    "    dayCar = ''\n",
    "    if weekDay in daySet1:\n",
    "        dayCar = carList[1]\n",
    "    elif weekDay in daySet2:\n",
    "        dayCar = carList[2]\n",
    "    \n",
    "    elif weekDay in daySet3:\n",
    "        dayCar = carList[0]\n",
    "    \n",
    "    else:\n",
    "        print('drive day unknown')\n",
    "\n",
    "    return dayCar\n",
    "    \n",
    "    \n",
    "    \n",
    "    \n",
    "weekDay = 'Calista'    \n",
    "    \n",
    "carDriven = carSelector(weekDay)    \n",
    "\n",
    "carDriven"
   ]
  },
  {
   "cell_type": "code",
   "execution_count": null,
   "id": "feed3592",
   "metadata": {},
   "outputs": [],
   "source": [
    "    "
   ]
  },
  {
   "cell_type": "code",
   "execution_count": 27,
   "id": "86dc936b",
   "metadata": {},
   "outputs": [
    {
     "name": "stdout",
     "output_type": "stream",
     "text": [
      "you have passed a value that is not a valid day of the week\n"
     ]
    },
    {
     "data": {
      "text/plain": [
       "('tuee', 70)"
      ]
     },
     "execution_count": 27,
     "metadata": {},
     "output_type": "execute_result"
    }
   ],
   "source": [
    "# re implementing using python functions \n",
    "\n",
    "carList = ['bmw', 'benz','toyota']\n",
    "driveDays = ['mon', 'tue','wed','thur','fri','sat','sun']\n",
    "daySet1 = ['mon', 'tue','wed'] \n",
    "daySet2 = ['thur', 'fri']\n",
    "daySet3 = ['sat','sun']\n",
    "\n",
    "\n",
    "def carSelector(weekDay):\n",
    "    #Test\n",
    "    if weekDay not in driveDays:\n",
    "        print('you have passed a value that is not a valid day of the week')\n",
    "        j = 14 *5\n",
    "        return weekDay, j\n",
    "    else:\n",
    "        dayCar = ''\n",
    "        if weekDay in daySet1:\n",
    "            dayCar = carList[1]\n",
    "        elif weekDay in daySet2:\n",
    "            dayCar = carList[2]\n",
    "\n",
    "        elif weekDay in daySet3:\n",
    "            dayCar = carList[0]\n",
    "\n",
    "        else:\n",
    "            print('drive day unknown')\n",
    "\n",
    "        return dayCar\n",
    "    \n",
    "\n",
    "    \n",
    "weekDay = 'tuee'    \n",
    "    \n",
    "carDriven = carSelector(weekDay)    \n",
    "\n",
    "carDriven"
   ]
  },
  {
   "cell_type": "code",
   "execution_count": 29,
   "id": "fbe46e5c",
   "metadata": {},
   "outputs": [
    {
     "name": "stdout",
     "output_type": "stream",
     "text": [
      "specify day of the weektue\n",
      "specify day of the week2fdjkf\n",
      "specify day of the week2fhf\n"
     ]
    },
    {
     "data": {
      "text/plain": [
       "'benz'"
      ]
     },
     "execution_count": 29,
     "metadata": {},
     "output_type": "execute_result"
    }
   ],
   "source": [
    "# using input statements  \n",
    "\n",
    "# re implementing using python functions \n",
    "\n",
    "carList = ['bmw', 'benz','toyota']\n",
    "driveDays = ['mon', 'tue','wed','thur','fri','sat','sun']\n",
    "daySet1 = ['mon', 'tue','wed'] \n",
    "daySet2 = ['thur', 'fri']\n",
    "daySet3 = ['sat','sun']\n",
    "\n",
    "\n",
    "def carSelector(weekDay):\n",
    "    #Test\n",
    "    if weekDay not in driveDays:\n",
    "        #print('you have passed a value that is not a valid day of the week')\n",
    "        j = f'The value you entered is not a valid day. you pass the value {weekDay}, please correct the error'\n",
    "        return j\n",
    "    else:\n",
    "        dayCar = ''\n",
    "        if weekDay in daySet1:\n",
    "            dayCar = carList[1]\n",
    "        elif weekDay in daySet2:\n",
    "            dayCar = carList[2]\n",
    "\n",
    "        elif weekDay in daySet3:\n",
    "            dayCar = carList[0]\n",
    "\n",
    "        else:\n",
    "            print('drive day unknown')\n",
    "\n",
    "        return dayCar\n",
    "    \n",
    "\n",
    "    \n",
    "weekDay = input('specify day of the week')   \n",
    "weekDay1 = input('specify day of the week2') \n",
    "weekDay2 = input('specify day of the week2')     \n",
    "carDriven = carSelector(weekDay)    \n",
    "\n",
    "carDriven"
   ]
  },
  {
   "cell_type": "code",
   "execution_count": 32,
   "id": "a366648d",
   "metadata": {},
   "outputs": [
    {
     "name": "stdout",
     "output_type": "stream",
     "text": [
      "select base currency converting fromtue\n",
      "select base currency valuewed\n",
      "select target currency converting tothr\n",
      "select target currency valuefdhd\n",
      "the equivalent value of tue of value wed, in thr is fdhd\n"
     ]
    }
   ],
   "source": [
    "# define base currency conversion direct to other currencies using a dictionary\n",
    "baseVals = {'pesso':200, 'GBP':0.9, 'Naira':400} # equivalent value to dollar\n",
    "#base value, medium of exchange is the US Dollar\n",
    "\n",
    "'''\n",
    "1. obtain the source currency and value : 100 Pessos to convert to naira\n",
    "\n",
    "2. convert the source currency to US dollars  : $10\n",
    "3. convert the equivaent dollar value ($10) to Naira\n",
    "'''\n",
    "currencyList = ['pesso','GBP','Naira']\n",
    "\n",
    "def curConverter(baseCur, tgtCur):\n",
    "    exchVal = ''\n",
    "    pass\n",
    "    return exchVal\n",
    "\n",
    "\n",
    "\n",
    "baseCur = ''\n",
    "tgtCur = ''\n",
    "baseCur = input('select base currency converting from')\n",
    "baseCurVal = input('select base currency value')\n",
    "tgtCur = input('select target currency converting to')\n",
    "tgtCurVal = input('select target currency value')\n",
    "\n",
    "exchVal  = curConverter(baseCur, tgtCur)\n",
    "print(f'the equivalent value of {baseCur} of value {baseCurVal}, in {tgtCur} is {tgtCurVal}')"
   ]
  },
  {
   "cell_type": "code",
   "execution_count": 37,
   "id": "cf325358",
   "metadata": {},
   "outputs": [],
   "source": [
    "currencyList = list(baseVals.keys())"
   ]
  },
  {
   "cell_type": "code",
   "execution_count": 38,
   "id": "ca5cd5e9",
   "metadata": {},
   "outputs": [
    {
     "data": {
      "text/plain": [
       "['pesso', 'GBP', 'Naira']"
      ]
     },
     "execution_count": 38,
     "metadata": {},
     "output_type": "execute_result"
    }
   ],
   "source": [
    "currencyList"
   ]
  },
  {
   "cell_type": "code",
   "execution_count": 42,
   "id": "bfa89745",
   "metadata": {},
   "outputs": [
    {
     "name": "stdout",
     "output_type": "stream",
     "text": [
      "select base currency converting fromGBP\n",
      "select base currency value300\n",
      "select target currency converting toNaira\n",
      "the equivalent value of GBP of value 300, in Naira is 133333.3333333333\n"
     ]
    }
   ],
   "source": [
    "# define base currency conversion direct to other currencies using a dictionary\n",
    "baseVals = {'pesso':200, 'GBP':0.9, 'Naira':400, 'Rand':130} # equivalent value to dollar\n",
    "#base value, medium of exchange is the US Dollar\n",
    "\n",
    "'''\n",
    "1. obtain the source currency and value : 100 Pessos to convert to naira\n",
    "\n",
    "2. convert the source currency to US dollars  : $10\n",
    "3. convert the equivaent dollar value ($10) to Naira\n",
    "'''\n",
    "currencyList = ['pesso','GBP','Naira']\n",
    "\n",
    "#Scenario: User wants to convert 1000 Naira to pesso. What is the value in Pesso?\n",
    "\n",
    "def curConverter(sourceCur, tgtCur, sourceAmount):\n",
    "    \n",
    "    if sourceCur in list(baseVals.keys()) and tgtCur in list(baseVals.keys()): # checking to assure that specied currencies are in list\n",
    "        sourceEqiv = float(baseVals[sourceCur]) # obtain exchange rate for source currency to dollar\n",
    "        dollaEquiv = sourceAmount/sourceEqiv # equivalent value of 1000 naira in Dollars\n",
    "        tgtCurAmount = dollaEquiv*baseVals[tgtCur]\n",
    "        \n",
    "    \n",
    "        return tgtCurAmount\n",
    "\n",
    "\n",
    "\n",
    "sourceCur = input('select base currency converting from')\n",
    "sourceAmount = input('select base currency value')\n",
    "tgtCur = input('select target currency converting to')\n",
    "\n",
    "\n",
    "exchVal  = curConverter(sourceCur, tgtCur, float(sourceAmount))\n",
    "print(f'the equivalent value of {sourceCur} of value {sourceAmount}, in {tgtCur} is {exchVal}')"
   ]
  },
  {
   "cell_type": "code",
   "execution_count": null,
   "id": "c25ad3dc",
   "metadata": {},
   "outputs": [],
   "source": []
  }
 ],
 "metadata": {
  "kernelspec": {
   "display_name": "Python 3",
   "language": "python",
   "name": "python3"
  },
  "language_info": {
   "codemirror_mode": {
    "name": "ipython",
    "version": 3
   },
   "file_extension": ".py",
   "mimetype": "text/x-python",
   "name": "python",
   "nbconvert_exporter": "python",
   "pygments_lexer": "ipython3",
   "version": "3.8.8"
  }
 },
 "nbformat": 4,
 "nbformat_minor": 5
}
