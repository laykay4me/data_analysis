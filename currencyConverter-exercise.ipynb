{
 "cells": [
  {
   "cell_type": "code",
   "execution_count": 7,
   "id": "70153e50",
   "metadata": {},
   "outputs": [
    {
     "name": "stdout",
     "output_type": "stream",
     "text": [
      "Amount to be converted = 200\n",
      "From which of the following currency? usd, dem, gbp, peso, rand, naira, kwacha, cedis = peso\n",
      "To which of the following currency? usd, dem, gbp, peso, rand, naira, kwacha, cedis = naira\n",
      "peso Exchange rate is:  40.04\n",
      "Exchange rate is:  415.22\n",
      "Amount is:  2074.0259740259744\n"
     ]
    }
   ],
   "source": [
    "currencyList = ['usd', 'dem', 'gbp', 'peso', 'rand', 'naira', 'kwacha', 'cedis']\n",
    "currencyRate = [1, 1.82, 0.79, 40.04, 15.40, 415.22, 17.17, 7.75]\n",
    "amount = input('Amount to be converted = ')\n",
    "fromCur = input('From which of the following currency? usd, dem, gbp, peso, rand, naira, kwacha, cedis = ')\n",
    "toCur = input('To which of the following currency? usd, dem, gbp, peso, rand, naira, kwacha, cedis = ')\n",
    "def checkCurrency(currencyList, currencyRate, amount, fromCur, toCur):\n",
    "    if (fromCur in currencyList):\n",
    "        return curCon(currencyList, currencyRate, amount, fromCur, toCur)\n",
    "    else:\n",
    "        print ('Currency Not Available')\n",
    "\n",
    "def curCon(currencyList, currencyRate, amount, fromCur, toCur):\n",
    "        curPos = currencyList.index(fromCur) #to detect the position of the currency\n",
    "        if (curPos == 0): #converting directly from dollar to other currency\n",
    "            rate = currencyRate[currencyList.index(toCur)] #to get rate from rate list\n",
    "            total = int(amount) * rate\n",
    "            print('Exchange rate is: ',  rate)\n",
    "            print('Amount is: ',total)\n",
    "        elif (toCur == 'usd'): #to convert to dollar from other currency\n",
    "            rate = currencyRate[currencyList.index(fromCur)]\n",
    "            total = (int(amount) / rate)\n",
    "            print('Exchange rate is: ',  rate)\n",
    "            print('Amount is: ',total)\n",
    "        else: #to convert between currency other than dollar\n",
    "            rate = currencyRate[currencyList.index(fromCur)]\n",
    "            exRate = currencyRate[currencyList.index(toCur)]\n",
    "            total = ((int(amount) / rate) * exRate)\n",
    "            print('peso Exchange rate is: ',  rate)\n",
    "            print('Exchange rate is: ',  exRate)\n",
    "            print('Amount is: ',total)\n",
    "checkCurrency(currencyList, currencyRate, amount, fromCur, toCur)"
   ]
  },
  {
   "cell_type": "code",
   "execution_count": 20,
   "id": "3ab1f4ce",
   "metadata": {},
   "outputs": [],
   "source": []
  },
  {
   "cell_type": "code",
   "execution_count": null,
   "id": "dffb7151",
   "metadata": {},
   "outputs": [],
   "source": []
  }
 ],
 "metadata": {
  "kernelspec": {
   "display_name": "Python 3 (ipykernel)",
   "language": "python",
   "name": "python3"
  },
  "language_info": {
   "codemirror_mode": {
    "name": "ipython",
    "version": 3
   },
   "file_extension": ".py",
   "mimetype": "text/x-python",
   "name": "python",
   "nbconvert_exporter": "python",
   "pygments_lexer": "ipython3",
   "version": "3.9.7"
  }
 },
 "nbformat": 4,
 "nbformat_minor": 5
}
