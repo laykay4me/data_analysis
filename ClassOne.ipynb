{
 "cells": [
  {
   "cell_type": "code",
   "execution_count": 1,
   "id": "84dd07e6",
   "metadata": {},
   "outputs": [
    {
     "name": "stdout",
     "output_type": "stream",
     "text": [
      "kaybee\n"
     ]
    }
   ],
   "source": [
    "fname = 'kaybee'\n",
    "print(fname)"
   ]
  },
  {
   "cell_type": "code",
   "execution_count": 3,
   "id": "92f00e5a",
   "metadata": {},
   "outputs": [],
   "source": [
    "lname = 'sadiku'"
   ]
  },
  {
   "cell_type": "code",
   "execution_count": 4,
   "id": "b1402c93",
   "metadata": {},
   "outputs": [
    {
     "name": "stdout",
     "output_type": "stream",
     "text": [
      "sadiku\n"
     ]
    }
   ],
   "source": [
    "print(lname)"
   ]
  },
  {
   "cell_type": "code",
   "execution_count": 5,
   "id": "b92e8012",
   "metadata": {},
   "outputs": [
    {
     "name": "stdout",
     "output_type": "stream",
     "text": [
      "20\n"
     ]
    }
   ],
   "source": [
    "age = 123\n",
    "age = 20\n",
    "print(age)"
   ]
  },
  {
   "cell_type": "code",
   "execution_count": 6,
   "id": "c129605a",
   "metadata": {},
   "outputs": [],
   "source": [
    "sName= 'james'\n",
    "statusType = 'student'\n",
    "numLunchBag = 1\n",
    "numapple = 2\n",
    "numOrange = 3\n",
    "numEggs = 1"
   ]
  },
  {
   "cell_type": "code",
   "execution_count": 7,
   "id": "2d560fb9",
   "metadata": {},
   "outputs": [
    {
     "name": "stdout",
     "output_type": "stream",
     "text": [
      "3\n",
      "student\n"
     ]
    }
   ],
   "source": [
    "print(numOrange)\n",
    "print(statusType)"
   ]
  },
  {
   "cell_type": "code",
   "execution_count": 10,
   "id": "ef56b139",
   "metadata": {},
   "outputs": [],
   "source": [
    "Sname = 'Agatha'\n",
    "NumStudent = 23\n",
    "NumSubject = 5\n",
    "oldestStu = 13\n",
    "sAge = oldestStu + 10\n",
    "sMood = 'happy'\n",
    "Status = 'student'"
   ]
  },
  {
   "cell_type": "code",
   "execution_count": 11,
   "id": "64fd2b47",
   "metadata": {},
   "outputs": [
    {
     "data": {
      "text/plain": [
       "'Agatha'"
      ]
     },
     "execution_count": 11,
     "metadata": {},
     "output_type": "execute_result"
    }
   ],
   "source": [
    "Sname"
   ]
  },
  {
   "cell_type": "code",
   "execution_count": 12,
   "id": "9d70b619",
   "metadata": {},
   "outputs": [
    {
     "data": {
      "text/plain": [
       "23"
      ]
     },
     "execution_count": 12,
     "metadata": {},
     "output_type": "execute_result"
    }
   ],
   "source": [
    "sAge"
   ]
  },
  {
   "cell_type": "code",
   "execution_count": 15,
   "id": "0b24dd75",
   "metadata": {},
   "outputs": [
    {
     "name": "stdout",
     "output_type": "stream",
     "text": [
      "Hello World\n"
     ]
    }
   ],
   "source": [
    "print(\"Hello World\")"
   ]
  },
  {
   "cell_type": "code",
   "execution_count": 16,
   "id": "6a68b9ab",
   "metadata": {},
   "outputs": [
    {
     "name": "stdout",
     "output_type": "stream",
     "text": [
      "Oragnge\n",
      "Apple\n",
      "Fruit\n"
     ]
    }
   ],
   "source": [
    "x,y,z = \"Oragnge\", \"Apple\", \"Fruit\"\n",
    "print(x)\n",
    "print(y)\n",
    "print(z)"
   ]
  },
  {
   "cell_type": "code",
   "execution_count": 17,
   "id": "54a57a0d",
   "metadata": {},
   "outputs": [
    {
     "name": "stdout",
     "output_type": "stream",
     "text": [
      "Banana\n"
     ]
    }
   ],
   "source": [
    "p=k=o=\"Banana\"\n",
    "print(p)"
   ]
  },
  {
   "cell_type": "code",
   "execution_count": 18,
   "id": "1068f908",
   "metadata": {},
   "outputs": [
    {
     "data": {
      "text/plain": [
       "2"
      ]
     },
     "execution_count": 18,
     "metadata": {},
     "output_type": "execute_result"
    }
   ],
   "source": [
    "x = 2.8\n",
    "x = int(x)\n",
    "x"
   ]
  },
  {
   "cell_type": "code",
   "execution_count": 19,
   "id": "e6dd9415",
   "metadata": {},
   "outputs": [
    {
     "name": "stdout",
     "output_type": "stream",
     "text": [
      "b\n",
      "a\n",
      "n\n",
      "a\n",
      "n\n",
      "a\n"
     ]
    }
   ],
   "source": [
    "x = \"banana\"\n",
    "for x in \"banana\":\n",
    "    print(x)"
   ]
  },
  {
   "cell_type": "code",
   "execution_count": 20,
   "id": "d579c951",
   "metadata": {},
   "outputs": [
    {
     "data": {
      "text/plain": [
       "1"
      ]
     },
     "execution_count": 20,
     "metadata": {},
     "output_type": "execute_result"
    }
   ],
   "source": [
    "len(x)"
   ]
  },
  {
   "cell_type": "code",
   "execution_count": 21,
   "id": "2de3c40f",
   "metadata": {},
   "outputs": [
    {
     "data": {
      "text/plain": [
       "6"
      ]
     },
     "execution_count": 21,
     "metadata": {},
     "output_type": "execute_result"
    }
   ],
   "source": [
    "x = \"banana\"\n",
    "len(x)"
   ]
  },
  {
   "cell_type": "code",
   "execution_count": 25,
   "id": "13671328",
   "metadata": {},
   "outputs": [
    {
     "name": "stdout",
     "output_type": "stream",
     "text": [
      "a\n"
     ]
    }
   ],
   "source": [
    "print(x[len(x) - 1])"
   ]
  },
  {
   "cell_type": "code",
   "execution_count": 26,
   "id": "1d027992",
   "metadata": {},
   "outputs": [
    {
     "name": "stdout",
     "output_type": "stream",
     "text": [
      "BANANA\n"
     ]
    }
   ],
   "source": [
    "print(x.upper())"
   ]
  },
  {
   "cell_type": "code",
   "execution_count": 28,
   "id": "9f119f54",
   "metadata": {},
   "outputs": [
    {
     "name": "stdout",
     "output_type": "stream",
     "text": [
      "I need 4 pieces for 100 usd\n"
     ]
    }
   ],
   "source": [
    "quantity = 4\n",
    "price = 100\n",
    "text = \"I need {} pieces for {} usd\" #this is text formating in action. using placeholder to add values to strings\n",
    "print(text.format(quantity, price))"
   ]
  },
  {
   "cell_type": "code",
   "execution_count": 29,
   "id": "af0e1c25",
   "metadata": {},
   "outputs": [
    {
     "name": "stdout",
     "output_type": "stream",
     "text": [
      "Lotto\n"
     ]
    }
   ],
   "source": [
    "x = \"lotto\"\n",
    "print(x.capitalize())"
   ]
  },
  {
   "cell_type": "code",
   "execution_count": 30,
   "id": "cb3bb704",
   "metadata": {},
   "outputs": [
    {
     "name": "stdout",
     "output_type": "stream",
     "text": [
      "True\n"
     ]
    }
   ],
   "source": [
    "x = \"hello\"\n",
    "print(bool(x))"
   ]
  },
  {
   "cell_type": "code",
   "execution_count": 61,
   "id": "f2f312ab",
   "metadata": {},
   "outputs": [
    {
     "ename": "SyntaxError",
     "evalue": "invalid syntax (Temp/ipykernel_9280/368806105.py, line 2)",
     "output_type": "error",
     "traceback": [
      "\u001b[1;36m  File \u001b[1;32m\"C:\\Users\\koas\\AppData\\Local\\Temp/ipykernel_9280/368806105.py\"\u001b[1;36m, line \u001b[1;32m2\u001b[0m\n\u001b[1;33m    def__len__(self):\u001b[0m\n\u001b[1;37m                     ^\u001b[0m\n\u001b[1;31mSyntaxError\u001b[0m\u001b[1;31m:\u001b[0m invalid syntax\n"
     ]
    }
   ],
   "source": [
    "class myClass():\n",
    "    def__len__(self):\n",
    "        return 0\n",
    "    myObject = myClass()\n",
    "    print(bool(myObject))"
   ]
  },
  {
   "cell_type": "code",
   "execution_count": 35,
   "id": "7357962b",
   "metadata": {},
   "outputs": [
    {
     "name": "stdout",
     "output_type": "stream",
     "text": [
      "Yes\n"
     ]
    }
   ],
   "source": [
    "def myFunction():\n",
    "    return True\n",
    "if myFunction():\n",
    "    print(\"Yes\")\n",
    "else:\n",
    "    print(\"No\")\n"
   ]
  },
  {
   "cell_type": "code",
   "execution_count": 36,
   "id": "7a93e067",
   "metadata": {},
   "outputs": [
    {
     "name": "stdout",
     "output_type": "stream",
     "text": [
      "True\n"
     ]
    }
   ],
   "source": [
    "x = 200\n",
    "print (isinstance(x, int))"
   ]
  },
  {
   "cell_type": "code",
   "execution_count": 37,
   "id": "14a81840",
   "metadata": {},
   "outputs": [
    {
     "name": "stdout",
     "output_type": "stream",
     "text": [
      "False\n"
     ]
    }
   ],
   "source": [
    "y = 12.7\n",
    "print (isinstance(y, int))"
   ]
  },
  {
   "cell_type": "code",
   "execution_count": 39,
   "id": "4dd2c074",
   "metadata": {},
   "outputs": [
    {
     "name": "stdout",
     "output_type": "stream",
     "text": [
      "['table', 'chair', 'bed', 'cooker', 'knife', 'spoon']\n"
     ]
    }
   ],
   "source": [
    "listOne = ['table', 'chair', 'bed']\n",
    "listTwo = ['cooker', 'knife', 'spoon']\n",
    "listOne.extend(listTwo)\n",
    "print(listOne)"
   ]
  },
  {
   "cell_type": "code",
   "execution_count": 40,
   "id": "157483ef",
   "metadata": {},
   "outputs": [
    {
     "name": "stdout",
     "output_type": "stream",
     "text": [
      "table\n",
      "chair\n",
      "bed\n",
      "cooker\n",
      "knife\n",
      "spoon\n"
     ]
    }
   ],
   "source": [
    "for y in listOne:\n",
    "    print(y)"
   ]
  },
  {
   "cell_type": "code",
   "execution_count": 42,
   "id": "591f2734",
   "metadata": {},
   "outputs": [
    {
     "name": "stdout",
     "output_type": "stream",
     "text": [
      "0\n",
      "1\n",
      "2\n",
      "3\n",
      "4\n",
      "5\n"
     ]
    }
   ],
   "source": [
    "for k in range (len(listOne)):\n",
    "    print(k)"
   ]
  },
  {
   "cell_type": "code",
   "execution_count": 44,
   "id": "99cca276",
   "metadata": {},
   "outputs": [
    {
     "name": "stdout",
     "output_type": "stream",
     "text": [
      "table\n",
      "chair\n",
      "bed\n",
      "cooker\n",
      "knife\n",
      "spoon\n"
     ]
    }
   ],
   "source": [
    "i = 0\n",
    "while i < len(listOne):\n",
    "    print (listOne[i])\n",
    "    i = i + 1"
   ]
  },
  {
   "cell_type": "code",
   "execution_count": 46,
   "id": "056d6c53",
   "metadata": {},
   "outputs": [
    {
     "name": "stdout",
     "output_type": "stream",
     "text": [
      "['table', 'chair']\n"
     ]
    }
   ],
   "source": [
    "newList = [x for x in listOne if 'a' in x]\n",
    "print(newList)"
   ]
  },
  {
   "cell_type": "code",
   "execution_count": 48,
   "id": "8f9a7263",
   "metadata": {},
   "outputs": [
    {
     "name": "stdout",
     "output_type": "stream",
     "text": [
      "['table', 'chair', 'bed', 'cooker', 'spoon']\n"
     ]
    }
   ],
   "source": [
    "newList = [x for x in listOne if x != 'knife'] #the condition return x if it us not knife\n",
    "print(newList)"
   ]
  },
  {
   "cell_type": "code",
   "execution_count": 49,
   "id": "68777337",
   "metadata": {},
   "outputs": [
    {
     "name": "stdout",
     "output_type": "stream",
     "text": [
      "[0, 1, 2, 3, 4, 5, 6, 7, 8, 9]\n"
     ]
    }
   ],
   "source": [
    "num = [k for k in range(10)]\n",
    "print (num)"
   ]
  },
  {
   "cell_type": "code",
   "execution_count": 51,
   "id": "adcb7d64",
   "metadata": {},
   "outputs": [
    {
     "name": "stdout",
     "output_type": "stream",
     "text": [
      "[0, 1, 2, 3, 4]\n"
     ]
    }
   ],
   "source": [
    "num = [k for k in range(10) if k < 5]\n",
    "print (num)"
   ]
  },
  {
   "cell_type": "code",
   "execution_count": 53,
   "id": "95fb36c6",
   "metadata": {},
   "outputs": [
    {
     "name": "stdout",
     "output_type": "stream",
     "text": [
      "['table', 'chair', 'bed', 'cooker', 'soup', 'spoon']\n"
     ]
    }
   ],
   "source": [
    "newList = [x if x != 'knife' else 'soup' for x in listOne] #the condition return x if is not knife and soup if it is knife\n",
    "print(newList)"
   ]
  },
  {
   "cell_type": "code",
   "execution_count": 55,
   "id": "3148c1b0",
   "metadata": {},
   "outputs": [
    {
     "name": "stdout",
     "output_type": "stream",
     "text": [
      "None\n"
     ]
    }
   ],
   "source": [
    "print(newList.sort())"
   ]
  },
  {
   "cell_type": "code",
   "execution_count": 56,
   "id": "43c04859",
   "metadata": {},
   "outputs": [
    {
     "name": "stdout",
     "output_type": "stream",
     "text": [
      "['bed', 'chair', 'cooker', 'soup', 'spoon', 'table']\n"
     ]
    }
   ],
   "source": [
    "newList.sort() #list is sorted and in ascending order\n",
    "print(newList)"
   ]
  },
  {
   "cell_type": "code",
   "execution_count": 57,
   "id": "b598bba6",
   "metadata": {},
   "outputs": [
    {
     "name": "stdout",
     "output_type": "stream",
     "text": [
      "['table', 'spoon', 'soup', 'cooker', 'chair', 'bed']\n"
     ]
    }
   ],
   "source": [
    "newList.sort(reverse = True) #list is sorted and in desendding order\n",
    "print(newList)"
   ]
  },
  {
   "cell_type": "code",
   "execution_count": 58,
   "id": "c0b977cd",
   "metadata": {},
   "outputs": [
    {
     "name": "stdout",
     "output_type": "stream",
     "text": [
      "['table', 'spoon', 'soup', 'cooker', 'chair', 'bed']\n"
     ]
    }
   ],
   "source": [
    "myList = newList.copy() # 1st method of copying list\n",
    "print(myList)"
   ]
  },
  {
   "cell_type": "code",
   "execution_count": 60,
   "id": "7e5a7d5f",
   "metadata": {},
   "outputs": [
    {
     "name": "stdout",
     "output_type": "stream",
     "text": [
      "['table', 'spoon', 'soup', 'cooker', 'chair', 'bed']\n"
     ]
    }
   ],
   "source": [
    "myList1 = list(myList) # 2nd method of copying list\n",
    "print(myList1)"
   ]
  },
  {
   "cell_type": "code",
   "execution_count": 62,
   "id": "cb9bed63",
   "metadata": {},
   "outputs": [
    {
     "name": "stdout",
     "output_type": "stream",
     "text": [
      "<class 'list'>\n"
     ]
    }
   ],
   "source": [
    "print(type(myList))"
   ]
  },
  {
   "cell_type": "code",
   "execution_count": 63,
   "id": "5046e0e6",
   "metadata": {},
   "outputs": [
    {
     "name": "stdout",
     "output_type": "stream",
     "text": [
      "['table', 'spoon', 'pot', 'cooker', 'chair', 'bed']\n"
     ]
    }
   ],
   "source": [
    "myList[2] = \"pot\" #to change list items using list index\n",
    "print(myList)"
   ]
  },
  {
   "cell_type": "code",
   "execution_count": 64,
   "id": "4d2b9516",
   "metadata": {},
   "outputs": [
    {
     "name": "stdout",
     "output_type": "stream",
     "text": [
      "['table', 'spoon', 'pot', 'cylinder', 'bed']\n"
     ]
    }
   ],
   "source": [
    "myList[2:5] = [\"pot\", \"cylinder\"] #to change list items using list index range\n",
    "print(myList)"
   ]
  },
  {
   "cell_type": "code",
   "execution_count": 65,
   "id": "4ba33e59",
   "metadata": {},
   "outputs": [
    {
     "name": "stdout",
     "output_type": "stream",
     "text": [
      "['table', 'spoon', 'pot', 'cooker', 'cylinder', 'bed']\n"
     ]
    }
   ],
   "source": [
    "myList.insert(3, \"cooker\") #t insert new item into the list\n",
    "print(myList)"
   ]
  },
  {
   "cell_type": "code",
   "execution_count": 67,
   "id": "3d30e9d9",
   "metadata": {},
   "outputs": [
    {
     "name": "stdout",
     "output_type": "stream",
     "text": [
      "['Mat', 'Mat', 'bed', 'cooker', 'cylinder', 'pot', 'spoon', 'table']\n"
     ]
    }
   ],
   "source": [
    "myList.insert(5, \"Mat\")\n",
    "myList.sort()\n",
    "print(myList)"
   ]
  },
  {
   "cell_type": "code",
   "execution_count": 69,
   "id": "6e2f15dd",
   "metadata": {},
   "outputs": [
    {
     "name": "stdout",
     "output_type": "stream",
     "text": [
      "['Mat', 'bed', 'cooker', 'cylinder', 'pot', 'spoon', 'table']\n"
     ]
    }
   ],
   "source": [
    "myList.pop(1)\n",
    "print(myList)"
   ]
  },
  {
   "cell_type": "code",
   "execution_count": 75,
   "id": "b9c0eb86",
   "metadata": {},
   "outputs": [
    {
     "name": "stdout",
     "output_type": "stream",
     "text": [
      "oranges\n",
      "Apple\n",
      "Banana\n"
     ]
    }
   ],
   "source": [
    "fruits = (\"oranges\", \"Apple\", \"Banana\") # This is an array referred to as turple in python.\n",
    "(green,red, blue) = fruits # Turples can't be changed, edited nor updated.\n",
    "print(green) # One way of printing turple list.\n",
    "print(red)\n",
    "print(blue)"
   ]
  },
  {
   "cell_type": "code",
   "execution_count": 78,
   "id": "38809507",
   "metadata": {},
   "outputs": [
    {
     "name": "stdout",
     "output_type": "stream",
     "text": [
      "Mat\n",
      "['cooker', 'cylinder']\n"
     ]
    }
   ],
   "source": [
    "myList = ('Mat', 'bed', 'cooker', 'cylinder')\n",
    "(one, two, *three) = myList # note that figure can't be used. i.e 1, 2, 3 can't be used in the reference turple list.\n",
    "print(one)\n",
    "print(three) # notice how the asteric works here\n"
   ]
  },
  {
   "cell_type": "code",
   "execution_count": 80,
   "id": "373eee10",
   "metadata": {},
   "outputs": [
    {
     "name": "stdout",
     "output_type": "stream",
     "text": [
      "Mat\n",
      "bed\n",
      "cooker\n",
      "cylinder\n"
     ]
    }
   ],
   "source": [
    "for y in myList:\n",
    "    print(y) # Another way of printing turple list"
   ]
  },
  {
   "cell_type": "code",
   "execution_count": 84,
   "id": "ec38625c",
   "metadata": {},
   "outputs": [
    {
     "name": "stdout",
     "output_type": "stream",
     "text": [
      "1\n",
      "3\n",
      "5\n",
      "7\n",
      "9\n",
      "11\n",
      "13\n",
      "15\n",
      "17\n",
      "19\n"
     ]
    }
   ],
   "source": [
    "u = range(1, 20, 2)\n",
    "for x in u:\n",
    "    print(x)"
   ]
  },
  {
   "cell_type": "code",
   "execution_count": 87,
   "id": "32fc79df",
   "metadata": {},
   "outputs": [
    {
     "name": "stdout",
     "output_type": "stream",
     "text": [
      "{'third', 'first', 'fourth', 'second'}\n"
     ]
    }
   ],
   "source": [
    "mySet = {'first', 'second', 'third', 'fourth'} # This ia another type of array. Note that list is identified with [], turple\n",
    "print(mySet) # with () and set is with {}. Set items are unordered, unindexed and unchangable."
   ]
  },
  {
   "cell_type": "code",
   "execution_count": 91,
   "id": "35447a43",
   "metadata": {},
   "outputs": [
    {
     "name": "stdout",
     "output_type": "stream",
     "text": [
      "{'table'}\n",
      "{'table'}\n"
     ]
    }
   ],
   "source": [
    "set1 = {'table', 'chair', 'desk'}\n",
    "set2 = {'table', 'book', 'pen'}\n",
    "set3 = set1.intersection(set2) # returns new set with item that exist in both set 1 and 2\n",
    "set1.intersection_update(set2) # keep only item that exist in both set 1 and 2\n",
    "print(set3)\n",
    "print(set1)\n"
   ]
  },
  {
   "cell_type": "code",
   "execution_count": 92,
   "id": "32a226e4",
   "metadata": {},
   "outputs": [
    {
     "name": "stdout",
     "output_type": "stream",
     "text": [
      "{'desk', 'chair', 'book', 'pen'}\n",
      "{'desk', 'chair', 'book', 'pen'}\n"
     ]
    }
   ],
   "source": [
    "set1 = {'table', 'chair', 'desk'}\n",
    "set2 = {'table', 'book', 'pen'}\n",
    "set4 = set1.symmetric_difference(set2) #does the opposite of set3\n",
    "set1.symmetric_difference_update(set2) #does the opposite of intersection\n",
    "print(set4)\n",
    "print(set1)"
   ]
  },
  {
   "cell_type": "code",
   "execution_count": 95,
   "id": "c121bd3e",
   "metadata": {},
   "outputs": [
    {
     "name": "stdout",
     "output_type": "stream",
     "text": [
      "['a', 'b', 'c', 1, 2]\n",
      "['a', 'b', 'c', 1, 2]\n",
      "[1, 2, 'a', 'b', 'c', 1, 2]\n"
     ]
    }
   ],
   "source": [
    "list1 = [\"a\", \"b\", \"c\"]\n",
    "list2 = [1, 2]\n",
    "list3 = list1 + list2\n",
    "for x in list2:\n",
    "    list1.append(x)\n",
    "print (list1)\n",
    "print(list3)\n",
    "list2.extend(list1)\n",
    "print(list2)"
   ]
  },
  {
   "cell_type": "code",
   "execution_count": 96,
   "id": "819b1d22",
   "metadata": {},
   "outputs": [
    {
     "name": "stdout",
     "output_type": "stream",
     "text": [
      "<class 'tuple'>\n"
     ]
    }
   ],
   "source": [
    "myTurple = (\"apple\", \"orange\", \"banana\")\n",
    "print(type(myTurple))"
   ]
  },
  {
   "cell_type": "code",
   "execution_count": 97,
   "id": "feb0969e",
   "metadata": {},
   "outputs": [
    {
     "name": "stdout",
     "output_type": "stream",
     "text": [
      "<class 'tuple'>\n"
     ]
    }
   ],
   "source": [
    "myTurple2 = (1, ) # a turple with just an element must be followed with a comma for python to understand that it is a turple\n",
    "print(type(myTurple2))"
   ]
  },
  {
   "cell_type": "code",
   "execution_count": 98,
   "id": "b4f879f8",
   "metadata": {},
   "outputs": [
    {
     "name": "stdout",
     "output_type": "stream",
     "text": [
      "apple\n",
      "orange\n",
      "banana\n"
     ]
    }
   ],
   "source": [
    "for y in myTurple: # Accessing turple elements\n",
    "    print(y)"
   ]
  },
  {
   "cell_type": "code",
   "execution_count": 99,
   "id": "7c5d6cee",
   "metadata": {},
   "outputs": [
    {
     "name": "stdout",
     "output_type": "stream",
     "text": [
      "1\n"
     ]
    }
   ],
   "source": [
    "print(myTurple2[0]) # Accessing turple elements using indexing"
   ]
  },
  {
   "cell_type": "code",
   "execution_count": 1,
   "id": "12fa38e2",
   "metadata": {},
   "outputs": [
    {
     "name": "stdout",
     "output_type": "stream",
     "text": [
      "orange {'apple', 'sweet', 'one'}\n"
     ]
    }
   ],
   "source": [
    "thisSet = {'one', 'apple', 'orange', 'sweet'}\n",
    "x = thisSet.pop()\n",
    "print(x, thisSet) # because set are unordered, the item that will be pop cannot be predicted. it is best to use\n",
    "#discard in place of pop or remove because remove will also through an error if item cannot be found."
   ]
  },
  {
   "cell_type": "code",
   "execution_count": 2,
   "id": "0092d5e8",
   "metadata": {},
   "outputs": [
    {
     "name": "stdout",
     "output_type": "stream",
     "text": [
      "{'product': 'Toyota', 'model': 'Venza', 'year': 2022}\n"
     ]
    }
   ],
   "source": [
    "thisDic = {\n",
    "    'product' : 'Toyota',\n",
    "    'model' : 'Venza',\n",
    "    'year' : 2022\n",
    "}\n",
    "print(thisDic)"
   ]
  },
  {
   "cell_type": "code",
   "execution_count": 7,
   "id": "287e5c3f",
   "metadata": {},
   "outputs": [
    {
     "name": "stdout",
     "output_type": "stream",
     "text": [
      "{'product': 'Toyota', 'model': 'Highlander', 'year': 2022, 'color': 'Black'}\n",
      "dict_keys(['product', 'model', 'year', 'color'])\n",
      "dict_values(['Toyota', 'Highlander', 2022, 'Black'])\n",
      "dict_items([('product', 'Toyota'), ('model', 'Highlander'), ('year', 2022), ('color', 'Black')])\n"
     ]
    }
   ],
   "source": [
    "thisDic['model'] = 'Highlander'\n",
    "print(thisDic)\n",
    "thisDic['color'] = 'Black'\n",
    "x = thisDic.keys() #list the keys in the dictionary\n",
    "y = thisDic.values() #list the values associated to each key in the dictionary\n",
    "z = thisDic.items() # list the dictionary items in key:value pair\n",
    "print(x)\n",
    "print(y)\n",
    "print(z)"
   ]
  },
  {
   "cell_type": "code",
   "execution_count": 8,
   "id": "2542f1be",
   "metadata": {},
   "outputs": [
    {
     "name": "stdout",
     "output_type": "stream",
     "text": [
      "year exist\n"
     ]
    }
   ],
   "source": [
    "if 'year' in thisDic: # to check if a key exist in dictionary.\n",
    "    print('year exist')"
   ]
  },
  {
   "cell_type": "code",
   "execution_count": 11,
   "id": "ee6cec76",
   "metadata": {},
   "outputs": [
    {
     "name": "stdout",
     "output_type": "stream",
     "text": [
      "Toyota\n",
      "Highlander\n",
      "2022\n",
      "Black\n"
     ]
    }
   ],
   "source": [
    "for a in thisDic:\n",
    "    print(thisDic[a])"
   ]
  },
  {
   "cell_type": "code",
   "execution_count": 12,
   "id": "f254f538",
   "metadata": {},
   "outputs": [
    {
     "name": "stdout",
     "output_type": "stream",
     "text": [
      "Enter Usernamelaykay4me\n",
      "Your Username is laykay4me\n"
     ]
    }
   ],
   "source": [
    "userName = input('Enter Username') #Method of obtaining input from users \n",
    "print('Your Username is ' + userName)"
   ]
  },
  {
   "cell_type": "code",
   "execution_count": 13,
   "id": "359ec3f3",
   "metadata": {},
   "outputs": [
    {
     "name": "stdout",
     "output_type": "stream",
     "text": [
      "a is greater than b\n"
     ]
    }
   ],
   "source": [
    "a = 10\n",
    "b = 5\n",
    "if a < b:\n",
    "    print('a is less than b')\n",
    "elif a == b:\n",
    "    print('a is equal to b')\n",
    "else:\n",
    "    print('a is greater than b')"
   ]
  },
  {
   "cell_type": "code",
   "execution_count": 14,
   "id": "4c75a2e8",
   "metadata": {},
   "outputs": [
    {
     "name": "stdout",
     "output_type": "stream",
     "text": [
      "B\n"
     ]
    }
   ],
   "source": [
    "print('A') if a < b else print('==') if a == b else print('B') # This is known as ternary operator or conditional expression."
   ]
  },
  {
   "cell_type": "code",
   "execution_count": 16,
   "id": "af905456",
   "metadata": {},
   "outputs": [
    {
     "name": "stdout",
     "output_type": "stream",
     "text": [
      "Hello World\n"
     ]
    }
   ],
   "source": [
    "def myFunc(): # A function is decleared in python using the \"Def\" keyword\n",
    "    print('Hello World')\n",
    "myFunc()"
   ]
  },
  {
   "cell_type": "code",
   "execution_count": 18,
   "id": "4ce0e786",
   "metadata": {},
   "outputs": [
    {
     "name": "stdout",
     "output_type": "stream",
     "text": [
      "Hello! kaybee\n"
     ]
    }
   ],
   "source": [
    "def myFunc1(name):  #passing argument to function\n",
    "    print('Hello! ' + name)\n",
    "myFunc1('kaybee')"
   ]
  },
  {
   "cell_type": "code",
   "execution_count": 19,
   "id": "883c1a6e",
   "metadata": {},
   "outputs": [
    {
     "name": "stdout",
     "output_type": "stream",
     "text": [
      "The second kid is kb\n"
     ]
    }
   ],
   "source": [
    "def myKids(*kids):  # asteric(*) is used before parameter when the number of variable to be used is unknown. \n",
    "    print('The second kid is ' + kids[1])\n",
    "myKids('kaybee', 'kb', 'leke')\n",
    "\n",
    "# ** double asteric will allow the passing of a dictionary to a function and can be accessed accordingly."
   ]
  },
  {
   "cell_type": "code",
   "execution_count": 20,
   "id": "406b44ea",
   "metadata": {},
   "outputs": [
    {
     "name": "stdout",
     "output_type": "stream",
     "text": [
      "Apple\n",
      "Orange\n",
      "Banana\n"
     ]
    }
   ],
   "source": [
    "def myList(food): #Passing a list to a function. note, it doesn't change the content.\n",
    "    for x in food:\n",
    "        print(x)\n",
    "fruit = ['Apple', 'Orange', 'Banana']\n",
    "myList(fruit)"
   ]
  },
  {
   "cell_type": "code",
   "execution_count": 21,
   "id": "df48ad97",
   "metadata": {},
   "outputs": [
    {
     "name": "stdout",
     "output_type": "stream",
     "text": [
      "\n",
      "\n",
      " recursion example result\n"
     ]
    },
    {
     "data": {
      "text/plain": [
       "0"
      ]
     },
     "execution_count": 21,
     "metadata": {},
     "output_type": "execute_result"
    }
   ],
   "source": [
    "def recursionExample(k):\n",
    "    if (k < 6):\n",
    "        result = k + recursionExample(k-1)\n",
    "        print(result)\n",
    "    else:\n",
    "        result = 0\n",
    "    return result\n",
    "print(\"\\n\\n recursion example result\")\n",
    "recursionExample(6)"
   ]
  },
  {
   "cell_type": "code",
   "execution_count": 24,
   "id": "1c6137da",
   "metadata": {},
   "outputs": [
    {
     "name": "stdout",
     "output_type": "stream",
     "text": [
      "16\n"
     ]
    }
   ],
   "source": [
    "x = lambda a:a+10\n",
    "print(x(6))"
   ]
  },
  {
   "cell_type": "code",
   "execution_count": 25,
   "id": "6fb31ced",
   "metadata": {},
   "outputs": [
    {
     "name": "stdout",
     "output_type": "stream",
     "text": [
      "12\n"
     ]
    }
   ],
   "source": [
    "y = lambda a, b: a * b\n",
    "print(y(3,4))"
   ]
  },
  {
   "cell_type": "code",
   "execution_count": 27,
   "id": "131db68e",
   "metadata": {},
   "outputs": [
    {
     "data": {
      "text/plain": [
       "<function __main__.myfunc.<locals>.<lambda>(a)>"
      ]
     },
     "execution_count": 27,
     "metadata": {},
     "output_type": "execute_result"
    }
   ],
   "source": [
    "def myfunc(a):\n",
    "    return lambda a: a * n\n",
    "\n",
    "myfunc(3)"
   ]
  },
  {
   "cell_type": "code",
   "execution_count": 32,
   "id": "e29f2eb6",
   "metadata": {},
   "outputs": [
    {
     "ename": "SyntaxError",
     "evalue": "invalid syntax (Temp/ipykernel_196/2750819274.py, line 2)",
     "output_type": "error",
     "traceback": [
      "\u001b[1;36m  File \u001b[1;32m\"C:\\Users\\koas\\AppData\\Local\\Temp/ipykernel_196/2750819274.py\"\u001b[1;36m, line \u001b[1;32m2\u001b[0m\n\u001b[1;33m    def___init___(self,name,age):\u001b[0m\n\u001b[1;37m                                 ^\u001b[0m\n\u001b[1;31mSyntaxError\u001b[0m\u001b[1;31m:\u001b[0m invalid syntax\n"
     ]
    }
   ],
   "source": [
    "class Person:\n",
    "    def___init___(self,name,age):\n",
    "        self.name = name\n",
    "        self.age = age\n",
    "        \n",
    "    def printFname(fname):\n",
    "        print('My name is ' + fname.name)\n",
    "        \n",
    "p1 = Person(kabir, 34)\n",
    "p1.printFname()"
   ]
  },
  {
   "cell_type": "code",
   "execution_count": null,
   "id": "12fbf6e7",
   "metadata": {},
   "outputs": [],
   "source": []
  }
 ],
 "metadata": {
  "kernelspec": {
   "display_name": "Python 3 (ipykernel)",
   "language": "python",
   "name": "python3"
  },
  "language_info": {
   "codemirror_mode": {
    "name": "ipython",
    "version": 3
   },
   "file_extension": ".py",
   "mimetype": "text/x-python",
   "name": "python",
   "nbconvert_exporter": "python",
   "pygments_lexer": "ipython3",
   "version": "3.9.7"
  }
 },
 "nbformat": 4,
 "nbformat_minor": 5
}
