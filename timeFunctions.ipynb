{
 "cells": [
  {
   "cell_type": "markdown",
   "id": "149db0ed",
   "metadata": {},
   "source": [
    "# Time Functions\n"
   ]
  },
  {
   "cell_type": "code",
   "execution_count": 2,
   "id": "9ed3c731",
   "metadata": {},
   "outputs": [],
   "source": [
    "import datetime\n",
    "from datetime import time\n",
    "\n",
    "\n",
    "\n",
    "# Function to get current %timeit\n",
    "def currTimeShort():\n",
    "    now = datetime.datetime.now()\n",
    "    current_time = now.strftime(\"%H:%M:%S\") # formating time to hours minutes and secs\n",
    "    return current_time\n",
    "\n",
    "#Function to return current date and timeabs\n",
    "def currTimeLong():\n",
    "    today = datetime.datetime.now()\n",
    "    return today\n",
    "\n",
    "#function to recieve user input timeabs\n",
    "def userTimeSpec():\n",
    "    reqTime = input('provide required date in the format; YYYY, MM,DD, HH, mm')\n",
    "    trimTime = ''.join(reqTime.split()) # removing any white spaces in user input. First split string by white spaces\n",
    "    timeParts = trimTime.split(',')# spliting user time input by commas\n",
    "    # extracting time parts and converting to integers since user input is always a string\n",
    "    yyyy = int(timeParts[0])\n",
    "    mm = int(timeParts[1])\n",
    "    dd = int(timeParts[2])\n",
    "    hh = int(timeParts[3])\n",
    "    m = int(timeParts[4])\n",
    "    dt2 = datetime.datetime(yyyy,mm,dd,hh,m) # converting to a datetime format\n",
    "    return dt2\n",
    "\n",
    "\n",
    "\n",
    "# function to return time difference in days hours and minutesabs\n",
    "\n",
    "def timediff(currTime, futureTime):\n",
    "    time_diff = futureTime - currTime\n",
    "    tdays = time_diff.days # get time difference in days\n",
    "    tsecs = time_diff.total_seconds() # get time difference in seconds\n",
    "    thrs = tsecs/(60*60) # get time difference in hours\n",
    "    \n",
    "    return time_diff, tdays, tsecs,thrs # this is returned as a list. Choose what you want to return\n",
    "\n",
    "\n",
    "\n",
    "# function to return time difference in hours and minutes"
   ]
  },
  {
   "cell_type": "code",
   "execution_count": 39,
   "id": "7336f160",
   "metadata": {},
   "outputs": [
    {
     "name": "stdout",
     "output_type": "stream",
     "text": [
      "06:15:26\n"
     ]
    }
   ],
   "source": [
    "# Get current time in hours minutes and secs\n",
    "cTime = currTimeShort()\n",
    "print(cTime)"
   ]
  },
  {
   "cell_type": "code",
   "execution_count": 40,
   "id": "521e7e8f",
   "metadata": {},
   "outputs": [
    {
     "name": "stdout",
     "output_type": "stream",
     "text": [
      "2022-07-02 06:16:22.911581\n"
     ]
    }
   ],
   "source": [
    "# Get current time in year, month, day hours minutes and secs\n",
    "\n",
    "longCTime = currTimeLong()\n",
    "print(longCTime)"
   ]
  },
  {
   "cell_type": "code",
   "execution_count": 41,
   "id": "b2ee1519",
   "metadata": {},
   "outputs": [
    {
     "name": "stdout",
     "output_type": "stream",
     "text": [
      "provide required date in the format; YYYY, MM,DD, HH, mm2022,6,30,14,28\n",
      "2022-06-30 14:28:00\n",
      "2022-06-30 14:28:00\n"
     ]
    }
   ],
   "source": [
    "# Recieve user specification of time required in the format year, month, day hours minutes\n",
    "userTime = userTimeSpec()\n",
    "print(userTime)"
   ]
  },
  {
   "cell_type": "code",
   "execution_count": 9,
   "id": "3a6c7b2c",
   "metadata": {},
   "outputs": [
    {
     "name": "stdout",
     "output_type": "stream",
     "text": [
      "provide required date in the format; YYYY, MM,DD, HH, mm2022,07,06, 14,42\n"
     ]
    }
   ],
   "source": [
    "ttt = timediff(currTimeLong(), userTimeSpec())"
   ]
  },
  {
   "cell_type": "code",
   "execution_count": 10,
   "id": "28d9dd8e",
   "metadata": {},
   "outputs": [
    {
     "data": {
      "text/plain": [
       "(datetime.timedelta(seconds=12, microseconds=218760),\n",
       " 0,\n",
       " 12.21876,\n",
       " 0.0033940999999999997)"
      ]
     },
     "execution_count": 10,
     "metadata": {},
     "output_type": "execute_result"
    }
   ],
   "source": [
    "ttt"
   ]
  },
  {
   "cell_type": "code",
   "execution_count": 11,
   "id": "cf940155",
   "metadata": {},
   "outputs": [
    {
     "name": "stdout",
     "output_type": "stream",
     "text": [
      "0:00:12.218760\n"
     ]
    }
   ],
   "source": [
    "print(ttt[0])"
   ]
  },
  {
   "cell_type": "code",
   "execution_count": 16,
   "id": "c51037b8",
   "metadata": {},
   "outputs": [
    {
     "name": "stdout",
     "output_type": "stream",
     "text": [
      "15:00:12\n",
      "2022-07-03 15:00:12.484005\n"
     ]
    }
   ],
   "source": [
    "def currTimeShort():\n",
    "    now = datetime.datetime.now()\n",
    "    current_time = now.strftime(\"%H:%M:%S\") # formating time to hours minutes and secs\n",
    "    return current_time\n",
    "print(currTimeShort())\n",
    "print(currTimeLong())"
   ]
  },
  {
   "cell_type": "code",
   "execution_count": 21,
   "id": "bda42084",
   "metadata": {},
   "outputs": [
    {
     "name": "stdout",
     "output_type": "stream",
     "text": [
      "provide required date in the format; YYYY, MM,DD, HH, mm2020, 01, 21, 01, 22\n",
      "2020-01-21 01:22:00\n",
      "2022-07-03 15:09:40.069949\n"
     ]
    }
   ],
   "source": [
    "print(userTimeSpec())\n",
    "print(datetime.datetime.now())"
   ]
  },
  {
   "cell_type": "code",
   "execution_count": 53,
   "id": "8263542d",
   "metadata": {},
   "outputs": [
    {
     "name": "stdout",
     "output_type": "stream",
     "text": [
      "               timezone  offset  offset_dst(Day light Savings)\n",
      "0        Africa/Abidjan       0                              0\n",
      "1          Africa/Accra       0                              0\n",
      "2    Africa/Addis_Ababa   10800                          10800\n",
      "3        Africa/Algiers    3600                           3600\n",
      "4         Africa/Asmara   10800                          10800\n",
      "..                  ...     ...                            ...\n",
      "583                 UTC       0                              0\n",
      "584           Universal       0                              0\n",
      "585                W-SU   10800                          10800\n",
      "586                 WET       0                           3600\n",
      "587                Zulu       0                              0\n",
      "\n",
      "[588 rows x 3 columns]\n"
     ]
    }
   ],
   "source": [
    "import pandas as pd\n",
    "df = pd.read_csv('c:/datasets/timeZone_Assignment/timezones_Detailed_588_Countries.csv')\n",
    "print(df)"
   ]
  },
  {
   "cell_type": "code",
   "execution_count": 2,
   "id": "68465b88",
   "metadata": {},
   "outputs": [
    {
     "name": "stdout",
     "output_type": "stream",
     "text": [
      "2022: 07: 07/15/22 17:37: 35 UTC +0000\n",
      "timezone : 2022: 07: 07/15/22 20: 37: 35 EAT +0300\n",
      "timezone : 2022: 07: 07/15/22 23: 37: 35 +06 +0600\n",
      "timezone : 2022: 07: 07/16/22 00: 37: 35 +07 +0700\n",
      "timezone : 2022: 07: 07/16/22 00: 07: 35 +0630 +0630\n",
      "timezone : 2022: 07: 07/15/22 20: 37: 35 EAT +0300\n",
      "timezone : 2022: 07: 07/15/22 22: 37: 35 +05 +0500\n",
      "timezone : 2022: 07: 07/15/22 21: 37: 35 +04 +0400\n",
      "timezone : 2022: 07: 07/15/22 22: 37: 35 +05 +0500\n",
      "timezone : 2022: 07: 07/15/22 21: 37: 35 +04 +0400\n",
      "timezone : 2022: 07: 07/15/22 20: 37: 35 EAT +0300\n",
      "timezone : 2022: 07: 07/15/22 21: 37: 35 +04 +0400\n"
     ]
    }
   ],
   "source": [
    "from datetime import datetime\n",
    "import pytz\n",
    "x = pytz.utc\n",
    "d = datetime.now(x)\n",
    "print(d.strftime('%Y: %m: %D %H:%M: %S %Z %z'))\n",
    "\n",
    "for tZone in pytz.all_timezones:\n",
    "    if 'Indian/' in tZone:\n",
    "        d = datetime.now(pytz.timezone(tZone))\n",
    "        print('timezone', \":\", d.strftime('%Y: %m: %D %H: %M: %S %Z %z'))"
   ]
  },
  {
   "cell_type": "code",
   "execution_count": 70,
   "id": "c83663df",
   "metadata": {},
   "outputs": [
    {
     "name": "stdout",
     "output_type": "stream",
     "text": [
      "Africa/Lagos\n"
     ]
    }
   ],
   "source": [
    "for tz in df['timezone']:\n",
    "    if '/Lagos' in tz:\n",
    "        print (tz)"
   ]
  },
  {
   "cell_type": "code",
   "execution_count": null,
   "id": "64240ec4",
   "metadata": {},
   "outputs": [],
   "source": []
  },
  {
   "cell_type": "code",
   "execution_count": 50,
   "id": "f85a8378",
   "metadata": {},
   "outputs": [],
   "source": []
  },
  {
   "cell_type": "code",
   "execution_count": null,
   "id": "e040fc3b",
   "metadata": {},
   "outputs": [],
   "source": []
  },
  {
   "cell_type": "code",
   "execution_count": null,
   "id": "c663ce67",
   "metadata": {},
   "outputs": [],
   "source": []
  }
 ],
 "metadata": {
  "kernelspec": {
   "display_name": "Python 3 (ipykernel)",
   "language": "python",
   "name": "python3"
  },
  "language_info": {
   "codemirror_mode": {
    "name": "ipython",
    "version": 3
   },
   "file_extension": ".py",
   "mimetype": "text/x-python",
   "name": "python",
   "nbconvert_exporter": "python",
   "pygments_lexer": "ipython3",
   "version": "3.9.7"
  }
 },
 "nbformat": 4,
 "nbformat_minor": 5
}
