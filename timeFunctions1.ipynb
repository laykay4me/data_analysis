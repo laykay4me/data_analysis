{
 "cells": [
  {
   "cell_type": "markdown",
   "id": "149db0ed",
   "metadata": {},
   "source": [
    "# Time Functions\n"
   ]
  },
  {
   "cell_type": "code",
   "execution_count": 33,
   "id": "9ed3c731",
   "metadata": {},
   "outputs": [],
   "source": [
    "import datetime\n",
    "from datetime import time\n",
    "\n",
    "\n",
    "\n",
    "# Function to get current %timeit\n",
    "def currTimeShort():\n",
    "    now = datetime.datetime.now()\n",
    "    current_time = now.strftime(\"%H:%M:%S\") # formating time to hours minutes and secs\n",
    "    return current_time\n",
    "\n",
    "#Function to return current date and timeabs\n",
    "def currTimeLong():\n",
    "    today = datetime.datetime.now()\n",
    "    return today\n",
    "\n",
    "#function to recieve user input timeabs\n",
    "def userTimeSpec():\n",
    "    reqTime = input('provide required date in the format; YYYY, MM,DD, HH, mm')\n",
    "    trimTime = ''.join(reqTime.split()) # removing any white spaces in user input. First split string by white spaces\n",
    "    timeParts = trimTime.split(',')# spliting user time input by commas\n",
    "    # extracting time parts and converting to integers since user input is always a string\n",
    "    yyyy = int(timeParts[0])\n",
    "    mm = int(timeParts[1])\n",
    "    dd = int(timeParts[2])\n",
    "    hh = int(timeParts[3])\n",
    "    m = int(timeParts[4])\n",
    "    dt2 = datetime.datetime(yyyy,mm,dd,hh,m) # converting to a datetime format\n",
    "    return dt2\n",
    "\n",
    "\n",
    "\n",
    "# function to return time difference in days hours and minutesabs\n",
    "\n",
    "def timediff(currTime, futureTime):\n",
    "    time_diff = futureTime - currTime\n",
    "    tdays = time_diff.days # get time difference in days\n",
    "    tsecs = time_diff.total_seconds() # get time difference in seconds\n",
    "    thrs = tsecs/(60*60) # get time difference in hours\n",
    "    \n",
    "    return time_diff, tdays, tsecs,thrs # this is returned as a list. Choose what you want to return\n",
    "\n",
    "\n",
    "\n",
    "# function to return time difference in hours and minutes"
   ]
  },
  {
   "cell_type": "code",
   "execution_count": 39,
   "id": "7336f160",
   "metadata": {},
   "outputs": [
    {
     "name": "stdout",
     "output_type": "stream",
     "text": [
      "06:15:26\n"
     ]
    }
   ],
   "source": [
    "# Get current time in hours minutes and secs\n",
    "cTime = currTimeShort()\n",
    "print(cTime)"
   ]
  },
  {
   "cell_type": "code",
   "execution_count": 40,
   "id": "521e7e8f",
   "metadata": {},
   "outputs": [
    {
     "name": "stdout",
     "output_type": "stream",
     "text": [
      "2022-07-02 06:16:22.911581\n"
     ]
    }
   ],
   "source": [
    "# Get current time in year, month, day hours minutes and secs\n",
    "\n",
    "longCTime = currTimeLong()\n",
    "print(longCTime)"
   ]
  },
  {
   "cell_type": "code",
   "execution_count": 41,
   "id": "b2ee1519",
   "metadata": {},
   "outputs": [
    {
     "name": "stdout",
     "output_type": "stream",
     "text": [
      "provide required date in the format; YYYY, MM,DD, HH, mm2022,6,30,14,28\n",
      "2022-06-30 14:28:00\n",
      "2022-06-30 14:28:00\n"
     ]
    }
   ],
   "source": [
    "# Recieve user specification of time required in the format year, month, day hours minutes\n",
    "userTime = userTimeSpec()\n",
    "print(userTime)"
   ]
  },
  {
   "cell_type": "code",
   "execution_count": 35,
   "id": "3a6c7b2c",
   "metadata": {},
   "outputs": [
    {
     "name": "stdout",
     "output_type": "stream",
     "text": [
      "provide required date in the format; YYYY, MM,DD, HH, mm2022,7,30,14,28\n",
      "2022-07-30 14:28:00\n"
     ]
    }
   ],
   "source": [
    "ttt = timediff(currTimeLong(), userTimeSpec())"
   ]
  },
  {
   "cell_type": "code",
   "execution_count": 36,
   "id": "28d9dd8e",
   "metadata": {},
   "outputs": [
    {
     "data": {
      "text/plain": [
       "(datetime.timedelta(days=28, seconds=29899, microseconds=380879),\n",
       " 28,\n",
       " 2449099.380879,\n",
       " 680.3053835774999)"
      ]
     },
     "execution_count": 36,
     "metadata": {},
     "output_type": "execute_result"
    }
   ],
   "source": [
    "ttt"
   ]
  },
  {
   "cell_type": "code",
   "execution_count": 37,
   "id": "cf940155",
   "metadata": {},
   "outputs": [
    {
     "name": "stdout",
     "output_type": "stream",
     "text": [
      "28 days, 8:18:19.380879\n"
     ]
    }
   ],
   "source": [
    "print(ttt[0])"
   ]
  },
  {
   "cell_type": "code",
   "execution_count": null,
   "id": "c51037b8",
   "metadata": {},
   "outputs": [],
   "source": []
  },
  {
   "cell_type": "code",
   "execution_count": null,
   "id": "bda42084",
   "metadata": {},
   "outputs": [],
   "source": []
  }
 ],
 "metadata": {
  "kernelspec": {
   "display_name": "Python 3",
   "language": "python",
   "name": "python3"
  },
  "language_info": {
   "codemirror_mode": {
    "name": "ipython",
    "version": 3
   },
   "file_extension": ".py",
   "mimetype": "text/x-python",
   "name": "python",
   "nbconvert_exporter": "python",
   "pygments_lexer": "ipython3",
   "version": "3.8.8"
  }
 },
 "nbformat": 4,
 "nbformat_minor": 5
}
