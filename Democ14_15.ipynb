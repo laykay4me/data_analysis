{
 "cells": [
  {
   "cell_type": "code",
   "execution_count": null,
   "id": "317d1ad6",
   "metadata": {},
   "outputs": [],
   "source": []
  },
  {
   "cell_type": "code",
   "execution_count": 3,
   "id": "391c41c4",
   "metadata": {},
   "outputs": [],
   "source": [
    "Countries = ['Africa/Abidjan','Africa/Accra','Africa/Addis_Ababa','Africa/Algiers','Africa/Asmara','Africa/Asmera','Africa/Bamako','Africa/Bangui','Africa/Banjul']\n",
    "\n",
    "countryList = []\n",
    "\n",
    "for items in Countries:\n",
    "    if '/' in items:\n",
    "        countryParts = items.split('/')\n",
    "        countryList.append(countryParts[1])\n",
    "        #print(countryPart)\n",
    "    else:\n",
    "        countryPart= items\n",
    "\n"
   ]
  },
  {
   "cell_type": "code",
   "execution_count": 4,
   "id": "2153d24c",
   "metadata": {},
   "outputs": [
    {
     "name": "stdout",
     "output_type": "stream",
     "text": [
      "9\n"
     ]
    }
   ],
   "source": [
    "print(len(countryList))"
   ]
  },
  {
   "cell_type": "code",
   "execution_count": 6,
   "id": "c1a17f54",
   "metadata": {},
   "outputs": [
    {
     "data": {
      "text/plain": [
       "True"
      ]
     },
     "execution_count": 6,
     "metadata": {},
     "output_type": "execute_result"
    }
   ],
   "source": [
    "'/' in 'Africa/Abidjan'"
   ]
  },
  {
   "cell_type": "code",
   "execution_count": null,
   "id": "2ccd29fd",
   "metadata": {},
   "outputs": [],
   "source": [
    "CountryTimeList = [0,0,10800,3600,10800,10800,0,3600,0]"
   ]
  },
  {
   "cell_type": "code",
   "execution_count": null,
   "id": "bdc16e04",
   "metadata": {},
   "outputs": [],
   "source": [
    "Month \tDate \tBootcamp Time (EST)\tCohort\tProgram \tTopic \n",
    "July\t7-Jul\t6.00 AM\tCohort 14\tData Analytics\tPython Variables\n",
    "July\t8-Jul\t10.00 AM\tCohort 15\tData Science/ML\tData Cleaning\n"
   ]
  },
  {
   "cell_type": "code",
   "execution_count": 11,
   "id": "1443d347",
   "metadata": {},
   "outputs": [],
   "source": [
    "monthList = ['July','July','July','July','July']\n",
    "dateList = ['7-Jul','8-Jul','7-Jul','8-Jul','21-Jul']\n",
    "timeList = ['6.00 AM','10.00 AM','6.00 AM','10.00 AM','6.00 AM']\n",
    "cohortList = ['Cohort 14','Cohort 15','Cohort 14','Cohort 15','Cohort 14']\n",
    "programList = ['Data Analytics','Data Science/ML', 'Data Science/ML','Data Analytics','Data Analytics']\n",
    "topicList = ['Python Variables','Data Cleaning','Python Variables','Data Visualization Project 1','Python Container']"
   ]
  },
  {
   "cell_type": "code",
   "execution_count": 12,
   "id": "245c3650",
   "metadata": {},
   "outputs": [],
   "source": [
    "estOffset = -18000\n",
    "\n"
   ]
  },
  {
   "cell_type": "code",
   "execution_count": 13,
   "id": "3261b926",
   "metadata": {},
   "outputs": [
    {
     "name": "stdout",
     "output_type": "stream",
     "text": [
      "July 7-Jul 6.00 AM Cohort 14 Data Analytics Python Variables\n",
      "July 8-Jul 10.00 AM Cohort 15 Data Science/ML Data Cleaning\n",
      "July 7-Jul 6.00 AM Cohort 14 Data Science/ML Python Variables\n",
      "July 8-Jul 10.00 AM Cohort 15 Data Analytics Data Visualization Project 1\n",
      "July 21-Jul 6.00 AM Cohort 14 Data Analytics Python Container\n"
     ]
    }
   ],
   "source": [
    "for m, dte,t,cohort,prog, topic in zip(monthList,dateList,timeList,cohortList,programList,topicList):\n",
    "    print(m, dte,t,cohort,prog, topic)"
   ]
  },
  {
   "cell_type": "code",
   "execution_count": 14,
   "id": "0bf3a774",
   "metadata": {},
   "outputs": [
    {
     "name": "stdout",
     "output_type": "stream",
     "text": [
      "specify monthJuly\n",
      "specify date - format XX-Mon11-Jul\n",
      "specify time- format xx.xx AM12.00 AM\n",
      "specify cohort - format cohort xxcohort 14\n",
      "specify program. Format Data Analytics, Data Science/MLData Analytics\n"
     ]
    }
   ],
   "source": [
    "userMonth = input('specify month')\n",
    "userDate = input('specify date - format XX-Mon')\n",
    "userTime = input('specify time- format xx.xx AM')\n",
    "userCohort = input('specify cohort - format cohort xx')\n",
    "userProgram = input('specify program. Format Data Analytics, Data Science/ML')\n"
   ]
  },
  {
   "cell_type": "code",
   "execution_count": 15,
   "id": "ca1e9489",
   "metadata": {},
   "outputs": [
    {
     "name": "stdout",
     "output_type": "stream",
     "text": [
      "July 11-Jul 12.00 AM cohort 14 Data Analytics\n"
     ]
    }
   ],
   "source": [
    "print(userMonth, userDate,userTime,userCohort,userProgram)"
   ]
  },
  {
   "cell_type": "code",
   "execution_count": null,
   "id": "589ebd07",
   "metadata": {},
   "outputs": [],
   "source": [
    "Conversion Steps:\n",
    "    \n",
    "    1. recieve user requested time zone or country\n",
    "    2. convert indicated bootcamp date and time BACK to UTC (-18000)\n",
    "    3. convert the new UTC from step 2 to the requested country /time zone using its own offset from the time derived from step 2\n",
    "                                                            "
   ]
  },
  {
   "cell_type": "code",
   "execution_count": null,
   "id": "2d6f3533",
   "metadata": {},
   "outputs": [],
   "source": [
    "Given: July\t7-Jul\t6.00 AM\tCohort 14\tData Analytics\tPython Variables\n",
    "\n",
    "Convert to UTC 6.00 + 18000/60/60  UTC Eqiv \n",
    "\n",
    "Lagos (+3600 away from UTC ) Conversion will be (   6.00 + 18000/60/60 + 3600  )\n",
    "\n",
    "out put result to user"
   ]
  },
  {
   "cell_type": "code",
   "execution_count": null,
   "id": "92f95ad0",
   "metadata": {},
   "outputs": [],
   "source": []
  },
  {
   "cell_type": "code",
   "execution_count": null,
   "id": "1361a1a3",
   "metadata": {},
   "outputs": [],
   "source": []
  }
 ],
 "metadata": {
  "kernelspec": {
   "display_name": "Python 3 (ipykernel)",
   "language": "python",
   "name": "python3"
  },
  "language_info": {
   "codemirror_mode": {
    "name": "ipython",
    "version": 3
   },
   "file_extension": ".py",
   "mimetype": "text/x-python",
   "name": "python",
   "nbconvert_exporter": "python",
   "pygments_lexer": "ipython3",
   "version": "3.9.7"
  }
 },
 "nbformat": 4,
 "nbformat_minor": 5
}
