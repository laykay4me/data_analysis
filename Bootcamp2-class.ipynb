{
 "cells": [
  {
   "cell_type": "code",
   "execution_count": 1,
   "id": "cc81684d",
   "metadata": {},
   "outputs": [],
   "source": [
    "studentList = ['shehu', 'mama', 'leemah', 'kaybee', 'john']\n",
    "studentGender = ['male', 'female', 'female', 'male', 'male']\n"
   ]
  },
  {
   "cell_type": "code",
   "execution_count": 2,
   "id": "6ce9f2f4",
   "metadata": {},
   "outputs": [
    {
     "name": "stdout",
     "output_type": "stream",
     "text": [
      "shehu male\n",
      "mama female\n",
      "leemah female\n",
      "kaybee male\n",
      "john male\n"
     ]
    }
   ],
   "source": [
    "for x, y in zip(studentList, studentGender):\n",
    "    print(x, y)"
   ]
  },
  {
   "cell_type": "code",
   "execution_count": 7,
   "id": "177a7c4c",
   "metadata": {},
   "outputs": [
    {
     "name": "stdout",
     "output_type": "stream",
     "text": [
      "Mr. shehu\n",
      "Ms. mama\n",
      "Ms. leemah\n",
      "Mr. kaybee\n",
      "Mr. john\n"
     ]
    }
   ],
   "source": [
    "for x, y in zip(studentList, studentGender): # zip is used to indicate your interest in reading from 2 or more folders together\n",
    "    if y == 'male':\n",
    "        title = 'Mr.'\n",
    "    elif y == 'female':\n",
    "        title = 'Ms.'\n",
    "    else:\n",
    "        title = 'NA'\n",
    "    print(title, x)"
   ]
  },
  {
   "cell_type": "code",
   "execution_count": 8,
   "id": "504bae0d",
   "metadata": {},
   "outputs": [
    {
     "name": "stdout",
     "output_type": "stream",
     "text": [
      "Mr. shehu is male\n",
      "Ms. mama is female\n",
      "Ms. leemah is female\n",
      "Mr. kaybee is male\n",
      "Mr. john is male\n"
     ]
    }
   ],
   "source": [
    "for x, y in zip(studentList, studentGender):\n",
    "    if y == 'male':\n",
    "        title = 'Mr.'\n",
    "    elif y == 'female':\n",
    "        title = 'Ms.'\n",
    "    else:\n",
    "        title = 'NA'\n",
    "    \n",
    "    studentTag = f'{title} {x} is {y}' #f'{}' is used as body filler in place of string concantination\n",
    "    print(studentTag)"
   ]
  },
  {
   "cell_type": "code",
   "execution_count": null,
   "id": "198af0e5",
   "metadata": {},
   "outputs": [],
   "source": []
  },
  {
   "cell_type": "code",
   "execution_count": null,
   "id": "daf4c22b",
   "metadata": {},
   "outputs": [],
   "source": []
  },
  {
   "cell_type": "code",
   "execution_count": null,
   "id": "4d78ddb3",
   "metadata": {},
   "outputs": [],
   "source": []
  },
  {
   "cell_type": "code",
   "execution_count": null,
   "id": "3bab8bfd",
   "metadata": {},
   "outputs": [],
   "source": []
  },
  {
   "cell_type": "code",
   "execution_count": null,
   "id": "8807ae8d",
   "metadata": {},
   "outputs": [],
   "source": []
  },
  {
   "cell_type": "code",
   "execution_count": null,
   "id": "c90716a9",
   "metadata": {},
   "outputs": [],
   "source": []
  }
 ],
 "metadata": {
  "kernelspec": {
   "display_name": "Python 3 (ipykernel)",
   "language": "python",
   "name": "python3"
  },
  "language_info": {
   "codemirror_mode": {
    "name": "ipython",
    "version": 3
   },
   "file_extension": ".py",
   "mimetype": "text/x-python",
   "name": "python",
   "nbconvert_exporter": "python",
   "pygments_lexer": "ipython3",
   "version": "3.9.7"
  }
 },
 "nbformat": 4,
 "nbformat_minor": 5
}
