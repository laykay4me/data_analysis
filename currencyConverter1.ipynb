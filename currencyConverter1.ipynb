{
 "cells": [
  {
   "cell_type": "code",
   "execution_count": 13,
   "id": "6017c44d",
   "metadata": {},
   "outputs": [
    {
     "name": "stdout",
     "output_type": "stream",
     "text": [
      "Enter Amount3\n",
      "From currency? 'usd', 'pounds', 'peso', 'rand', 'naira', 'kwacha', 'cedis'usd\n",
      "To currency? 'usd', 'pounds', 'peso', 'rand', 'naira', 'kwacha', 'cedis'usd\n"
     ]
    }
   ],
   "source": [
    "currencyList = ['usd', 'dem', 'gbp', 'peso', 'rand', 'naira', 'kwacha', 'cedis']\n",
    "currencyRate = [1, 1.82, 0.79, 40.04, 15.40, 415.22, 17.17, 7.75]\n",
    "#valAmount = input('Enter Amount')\n",
    "#fromCurrency = input(\"From currency? 'usd', 'pounds', 'peso', 'rand', 'naira', 'kwacha', 'cedis'\")\n",
    "#toCurrency = input(\"To currency? 'usd', 'pounds', 'peso', 'rand', 'naira', 'kwacha', 'cedis'\")\n",
    "\n",
    "def checkCurrency(fromCurrency, currencyList):\n",
    "    if (fromCurrency in currencyList):\n",
    "        return True\n",
    "    else:\n",
    "        return False\n",
    "\n",
    "def currencyConverter(valAmount, fromCurrency, toCurrency, currencyRate, currencyList):\n",
    "    if (checkCurrency == True):\n",
    "        currencyPosition = currencyList.index(fromCurrency)\n",
    "        if(toCurrency == 'usd'):\n",
    "            total = valAmount / currencyRate[currencyPosition]\n",
    "        elif(fromCurrency == 'usd'):\n",
    "            currencyPosition = currencyList.index(toCurrency)\n",
    "            total = fromCurrency * currencyRate[currencyPosition]\n",
    "        else:\n",
    "            currencyPosition = currencyList.index(fromCurrency)\n",
    "            rate = valAmount / currencyRate[currencyPosition]\n",
    "            total = rate * currencyRate[currencyList.index(toCurrency)]\n",
    "    else:\n",
    "        print('Currency entered is not available, try again')\n",
    "        \n",
    "    return total\n"
   ]
  },
  {
   "cell_type": "code",
   "execution_count": 14,
   "id": "0bf58179",
   "metadata": {},
   "outputs": [
    {
     "name": "stdout",
     "output_type": "stream",
     "text": [
      "Currency entered is not available, try again\n"
     ]
    },
    {
     "data": {
      "text/plain": [
       "''"
      ]
     },
     "execution_count": 14,
     "metadata": {},
     "output_type": "execute_result"
    }
   ],
   "source": [
    "currencyConverter(100, 'usd', 'peso', currencyRate, currencyList)"
   ]
  },
  {
   "cell_type": "code",
   "execution_count": 11,
   "id": "6640028f",
   "metadata": {},
   "outputs": [
    {
     "name": "stdout",
     "output_type": "stream",
     "text": [
      "0\n"
     ]
    }
   ],
   "source": [
    "checkCurrency('usd', currencyList)"
   ]
  },
  {
   "cell_type": "code",
   "execution_count": 25,
   "id": "a22971f7",
   "metadata": {},
   "outputs": [
    {
     "name": "stdout",
     "output_type": "stream",
     "text": [
      "0\n",
      "yes\n"
     ]
    }
   ],
   "source": [
    "test = checkCurrency('usd', currencyList)\n",
    "if (test != True):\n",
    "    print('yes')\n",
    "else:\n",
    "    print('no')"
   ]
  },
  {
   "cell_type": "code",
   "execution_count": 30,
   "id": "74c7e430",
   "metadata": {},
   "outputs": [
    {
     "data": {
      "text/plain": [
       "False"
      ]
     },
     "execution_count": 30,
     "metadata": {},
     "output_type": "execute_result"
    }
   ],
   "source": [
    "def checkCurrency1(fromCurrency, valAmount, currencyList):\n",
    "    if (fromCurrency in currencyList):\n",
    "        return true\n",
    "    else:\n",
    "        return False\n",
    "checkCurrency1('gbp', 100, currencyList)"
   ]
  },
  {
   "cell_type": "code",
   "execution_count": null,
   "id": "a1dd2849",
   "metadata": {},
   "outputs": [],
   "source": []
  }
 ],
 "metadata": {
  "kernelspec": {
   "display_name": "Python 3 (ipykernel)",
   "language": "python",
   "name": "python3"
  },
  "language_info": {
   "codemirror_mode": {
    "name": "ipython",
    "version": 3
   },
   "file_extension": ".py",
   "mimetype": "text/x-python",
   "name": "python",
   "nbconvert_exporter": "python",
   "pygments_lexer": "ipython3",
   "version": "3.9.7"
  }
 },
 "nbformat": 4,
 "nbformat_minor": 5
}
